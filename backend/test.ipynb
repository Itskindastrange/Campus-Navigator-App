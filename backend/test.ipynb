{
 "cells": [
  {
   "cell_type": "code",
   "execution_count": 15,
   "id": "af7481d3",
   "metadata": {},
   "outputs": [
    {
     "name": "stdout",
     "output_type": "stream",
     "text": [
      "\n",
      "✅ Prediction Successful\n",
      "📍 CNN Predicted Class: 6 (NB)\n",
      "📊 CNN Probabilities: [0.014 0.052 0.088 0.022 0.021 0.006 0.781 0.004 0.013]\n",
      "📏 YOLO Detected Distances (m): [5.06, 4.08, 3.79, 5.19, 4.11, 3.52, 4.02, 2.92, 3.99, 2.81]\n",
      "📐 Average Distance (m): 3.95\n",
      "🗺️  Estimated User Coordinates: {'latitude': 31.480404, 'longitude': 74.30408}\n"
     ]
    }
   ],
   "source": [
    "import requests\n",
    "import numpy as np\n",
    "import sys\n",
    "\n",
    "# ----------- CONFIG ----------- #\n",
    "BASE_URL = 'http://127.0.0.1:5001'  # Change if using Ngrok or different port\n",
    "class_names = ['Civil', 'CS', 'EE', 'Gate 5', 'Library', 'Main', 'NB', 'Old cafe', 'Wuzu']\n",
    "\n",
    "# ----------- TEST PREDICTION ----------- #\n",
    "def test_prediction(image_path):\n",
    "    try:\n",
    "        with open(image_path, 'rb') as image_file:\n",
    "            files = {'image': image_file}\n",
    "            response = requests.post(f'{BASE_URL}/predict', files=files)\n",
    "            response.raise_for_status()\n",
    "\n",
    "            data = response.json()\n",
    "\n",
    "            cnn_index = data.get('cnn_predicted_class')\n",
    "            cnn_name = data.get('cnn_predicted_class_name')\n",
    "            cnn_probs = data.get('cnn_class_probabilities')\n",
    "\n",
    "            distances = data.get('yolo_detected_distances', [])\n",
    "            avg_distance = data.get('average_yolo_distance')\n",
    "            user_coords = data.get('estimated_user_coordinates')\n",
    "\n",
    "            print(\"\\n✅ Prediction Successful\")\n",
    "            print(f\"📍 CNN Predicted Class: {cnn_index} ({cnn_name})\")\n",
    "            print(\"📊 CNN Probabilities:\", np.round(cnn_probs, 3))\n",
    "            print(\"📏 YOLO Detected Distances (m):\", [round(d, 2) for d in distances])\n",
    "            print(\"📐 Average Distance (m):\", round(avg_distance, 2) if avg_distance else \"N/A\")\n",
    "            print(\"🗺️  Estimated User Coordinates:\", user_coords if user_coords else \"N/A\")\n",
    "\n",
    "    except requests.exceptions.RequestException as e:\n",
    "        print(\"❌ Request Failed:\", e)\n",
    "    except Exception as e:\n",
    "        print(\"❌ Error:\", e)\n",
    "\n",
    "# ----------- MAIN ----------- #\n",
    "if __name__ == '__main__':\n",
    "    test_prediction(\"temp_image.jpg\")"
   ]
  },
  {
   "cell_type": "code",
   "execution_count": null,
   "id": "6fb88ff8",
   "metadata": {},
   "outputs": [],
   "source": []
  }
 ],
 "metadata": {
  "kernelspec": {
   "display_name": "base",
   "language": "python",
   "name": "python3"
  },
  "language_info": {
   "codemirror_mode": {
    "name": "ipython",
    "version": 3
   },
   "file_extension": ".py",
   "mimetype": "text/x-python",
   "name": "python",
   "nbconvert_exporter": "python",
   "pygments_lexer": "ipython3",
   "version": "3.12.7"
  }
 },
 "nbformat": 4,
 "nbformat_minor": 5
}
